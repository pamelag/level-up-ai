{
  "nbformat": 4,
  "nbformat_minor": 0,
  "metadata": {
    "colab": {
      "provenance": [],
      "authorship_tag": "ABX9TyMrCQTqQSauE1xlkwt1m6f9",
      "include_colab_link": true
    },
    "kernelspec": {
      "name": "python3",
      "display_name": "Python 3"
    },
    "language_info": {
      "name": "python"
    }
  },
  "cells": [
    {
      "cell_type": "markdown",
      "metadata": {
        "id": "view-in-github",
        "colab_type": "text"
      },
      "source": [
        "<a href=\"https://colab.research.google.com/github/pamelag/level-up-ai/blob/main/Ll_FT_inference.ipynb\" target=\"_parent\"><img src=\"https://colab.research.google.com/assets/colab-badge.svg\" alt=\"Open In Colab\"/></a>"
      ]
    },
    {
      "cell_type": "code",
      "execution_count": null,
      "metadata": {
        "id": "GrLQHY5kwzPF"
      },
      "outputs": [],
      "source": [
        "!nvidia-smi"
      ]
    },
    {
      "cell_type": "code",
      "source": [
        "!pip install torch\n",
        "!pip install transformers\n",
        "!pip install datasets\n",
        "!pip install peft\n",
        "!pip install bitsandbytes\n",
        "!pip install trl"
      ],
      "metadata": {
        "id": "mtPtFY47xfYw"
      },
      "execution_count": null,
      "outputs": []
    },
    {
      "cell_type": "code",
      "source": [
        "import json\n",
        "import re\n",
        "from pprint import pprint\n",
        "\n",
        "import pandas as pd\n",
        "import torch\n",
        "from torch.utils.data import Dataset\n",
        "from datasets import Dataset, load_dataset, DatasetDict\n",
        "from huggingface_hub import notebook_login\n",
        "from peft import LoraConfig, PeftModel\n",
        "from transformers import (\n",
        "    AutoModelForCausalLM,\n",
        "    AutoTokenizer,\n",
        "    BitsAndBytesConfig,\n",
        "    TrainingArguments,\n",
        ")\n",
        "from trl import SFTTrainer\n",
        "\n",
        "DEVICE = \"cuda:0\" if torch.cuda.is_available() else \"cpu\"\n",
        "MODEL_NAME = \"meta-llama/Llama-2-7b-chat-hf\""
      ],
      "metadata": {
        "id": "OAeeEFoOxi3F"
      },
      "execution_count": null,
      "outputs": []
    },
    {
      "cell_type": "code",
      "source": [
        "notebook_login()"
      ],
      "metadata": {
        "id": "s2pUPQ83xnQK"
      },
      "execution_count": null,
      "outputs": []
    },
    {
      "cell_type": "code",
      "source": [
        "dataset = load_dataset(\"json\", data_files=\"delivery-plan-faq-new.json\")"
      ],
      "metadata": {
        "id": "P3e67Y0LxpW9"
      },
      "execution_count": null,
      "outputs": []
    },
    {
      "cell_type": "code",
      "source": [
        "dataset"
      ],
      "metadata": {
        "id": "Iio9IjVXxs_t"
      },
      "execution_count": null,
      "outputs": []
    },
    {
      "cell_type": "code",
      "source": [
        "train_testvalid = dataset['train'].train_test_split(test_size=0.2)\n",
        "\n",
        "# Split the 10% test + valid in half test, half valid\n",
        "test_valid = train_testvalid['test'].train_test_split(test_size=0.1)\n",
        "\n",
        "# gather everyone if you want to have a single DatasetDict\n",
        "dataset = DatasetDict({\n",
        "    'train': train_testvalid['train'],\n",
        "    'test': test_valid['test'],\n",
        "    'valid': test_valid['train']})"
      ],
      "metadata": {
        "id": "1qCkNlAExwKO"
      },
      "execution_count": null,
      "outputs": []
    },
    {
      "cell_type": "code",
      "source": [
        "print(len(dataset[\"train\"]))\n",
        "print(len(dataset[\"valid\"]))\n",
        "print(len(dataset[\"test\"]))"
      ],
      "metadata": {
        "id": "fLr-LlVBxyu3"
      },
      "execution_count": null,
      "outputs": []
    },
    {
      "cell_type": "code",
      "source": [
        "DEFAULT_SYSTEM_PROMPT = \"\"\"\n",
        "You are a professional writer. Rewrite the following text in formal words.\n",
        "\"\"\".strip()\n",
        "\n",
        "\n",
        "def generate_training_prompt(\n",
        "    question: str, answer: str, system_prompt: str = DEFAULT_SYSTEM_PROMPT\n",
        ") -> str:\n",
        "    return f\"\"\"### Instruction: {system_prompt}\n",
        "\n",
        "### Input:\n",
        "{question.strip()}\n",
        "\n",
        "### Response:\n",
        "{answer}\n",
        "\"\"\".strip()"
      ],
      "metadata": {
        "id": "NwcAItdTx0hS"
      },
      "execution_count": null,
      "outputs": []
    },
    {
      "cell_type": "code",
      "source": [
        "def clean_text(text):\n",
        "    text = re.sub(r\"http\\S+\", \"\", text)\n",
        "    text = re.sub(r\"@[^\\s]+\", \"\", text)\n",
        "    text = re.sub(r\"\\s+\", \" \", text)\n",
        "    return re.sub(r\"\\^[^ ]+\", \"\", text)"
      ],
      "metadata": {
        "id": "WSVPqK6Yx3fq"
      },
      "execution_count": null,
      "outputs": []
    },
    {
      "cell_type": "code",
      "source": [
        "def process_dataset(data: Dataset):\n",
        "    return (\n",
        "        data.shuffle(seed=42)\n",
        "        .map(generate_text)\n",
        "    )"
      ],
      "metadata": {
        "id": "lF5bm6E8x9sL"
      },
      "execution_count": null,
      "outputs": []
    },
    {
      "cell_type": "code",
      "source": [
        "dataset[\"train\"] = process_dataset(dataset[\"train\"])\n",
        "dataset[\"validation\"] = process_dataset(dataset[\"valid\"])"
      ],
      "metadata": {
        "id": "7_hpwZqkyBtW"
      },
      "execution_count": null,
      "outputs": []
    },
    {
      "cell_type": "code",
      "source": [
        "lora_r = 16\n",
        "lora_alpha = 64\n",
        "lora_dropout = 0.1\n",
        "lora_target_modules = [\n",
        "    \"q_proj\",\n",
        "    \"up_proj\",\n",
        "    \"o_proj\",\n",
        "    \"k_proj\",\n",
        "    \"down_proj\",\n",
        "    \"gate_proj\",\n",
        "    \"v_proj\",\n",
        "]\n",
        "\n",
        "\n",
        "peft_config = LoraConfig(\n",
        "    r=lora_r,\n",
        "    lora_alpha=lora_alpha,\n",
        "    lora_dropout=lora_dropout,\n",
        "    target_modules=lora_target_modules,\n",
        "    bias=\"none\",\n",
        "    task_type=\"CAUSAL_LM\",\n",
        ")"
      ],
      "metadata": {
        "id": "t1ZUPnSsyEcp"
      },
      "execution_count": null,
      "outputs": []
    },
    {
      "cell_type": "code",
      "source": [
        "def generate_prompt(\n",
        "    question: str, system_prompt: str = DEFAULT_SYSTEM_PROMPT\n",
        ") -> str:\n",
        "    return f\"\"\"### Instruction: {system_prompt}\n",
        "\n",
        "### Input:\n",
        "{question.strip()}\n",
        "\n",
        "### Response:\n",
        "\"\"\".strip()"
      ],
      "metadata": {
        "id": "RUEram27yFR-"
      },
      "execution_count": null,
      "outputs": []
    },
    {
      "cell_type": "code",
      "source": [
        "dataset[\"test\"][0]"
      ],
      "metadata": {
        "id": "a6_t67aAyHyM"
      },
      "execution_count": null,
      "outputs": []
    },
    {
      "cell_type": "code",
      "source": [
        "question = dataset[\"test\"][0][\"question\"]"
      ],
      "metadata": {
        "id": "BHclhmZ-yJxd"
      },
      "execution_count": null,
      "outputs": []
    },
    {
      "cell_type": "code",
      "source": [
        "OUTPUT_DIR = \"llm_model\""
      ],
      "metadata": {
        "id": "XvMfRuGUyL3E"
      },
      "execution_count": null,
      "outputs": []
    },
    {
      "cell_type": "code",
      "source": [
        "def create_test_model_and_tokenizer():\n",
        "    bnb_config = BitsAndBytesConfig(\n",
        "        load_in_4bit=True,\n",
        "        bnb_4bit_quant_type=\"nf4\",\n",
        "        bnb_4bit_compute_dtype=torch.float16,\n",
        "    )\n",
        "\n",
        "    model = AutoModelForCausalLM.from_pretrained(\n",
        "        \"llm_model\",\n",
        "        use_safetensors=True,\n",
        "        quantization_config=bnb_config,\n",
        "        trust_remote_code=True,\n",
        "        device_map=\"auto\",\n",
        "    )\n",
        "\n",
        "    tokenizer = AutoTokenizer.from_pretrained(\"llm_model\")\n",
        "    tokenizer.pad_token = tokenizer.eos_token\n",
        "    tokenizer.padding_side = \"right\"\n",
        "\n",
        "    return model, tokenizer"
      ],
      "metadata": {
        "id": "o8fjzeq6yNtw"
      },
      "execution_count": null,
      "outputs": []
    },
    {
      "cell_type": "code",
      "source": [
        "test_prompt = generate_prompt(question)\n",
        "test_prompt"
      ],
      "metadata": {
        "id": "7y7lCYOsyQgR"
      },
      "execution_count": null,
      "outputs": []
    },
    {
      "cell_type": "code",
      "source": [
        "model, tokenizer = create_test_model_and_tokenizer()"
      ],
      "metadata": {
        "id": "S_TnB3qqykXj"
      },
      "execution_count": null,
      "outputs": []
    },
    {
      "cell_type": "code",
      "source": [
        "model"
      ],
      "metadata": {
        "id": "uXtbrGOkynCy"
      },
      "execution_count": null,
      "outputs": []
    },
    {
      "cell_type": "code",
      "source": [
        "tokenizer"
      ],
      "metadata": {
        "id": "gHvORkQnyn0K"
      },
      "execution_count": null,
      "outputs": []
    },
    {
      "cell_type": "code",
      "source": [
        "def summarize(model, text: str):\n",
        "    inputs = tokenizer(text, return_tensors=\"pt\").to(DEVICE)\n",
        "    inputs_length = len(inputs[\"input_ids\"][0])\n",
        "    with torch.inference_mode():\n",
        "        outputs = model.generate(**inputs, max_new_tokens=1024, temperature=0.0001)\n",
        "    return tokenizer.decode(outputs[0][inputs_length:], skip_special_tokens=True)"
      ],
      "metadata": {
        "id": "YaEqGGT8yq87"
      },
      "execution_count": null,
      "outputs": []
    },
    {
      "cell_type": "code",
      "source": [
        "summary = summarize(model, test_prompt)"
      ],
      "metadata": {
        "id": "ozHZuet9ytS0"
      },
      "execution_count": null,
      "outputs": []
    },
    {
      "cell_type": "code",
      "source": [
        "pprint(summary)"
      ],
      "metadata": {
        "id": "mqNbvOrGy_t1"
      },
      "execution_count": null,
      "outputs": []
    },
    {
      "cell_type": "code",
      "source": [
        "summary_1 = summarize(model, test_prompt)"
      ],
      "metadata": {
        "id": "w4b_-diOzAxB"
      },
      "execution_count": null,
      "outputs": []
    },
    {
      "cell_type": "code",
      "source": [
        "print(summary_1)"
      ],
      "metadata": {
        "id": "IOd8wuaPzGep"
      },
      "execution_count": null,
      "outputs": []
    },
    {
      "cell_type": "code",
      "source": [
        "def rewrite_short(model, text: str):\n",
        "    inputs = tokenizer(text, return_tensors=\"pt\").to(DEVICE)\n",
        "    inputs_length = len(inputs[\"input_ids\"][0])\n",
        "    with torch.inference_mode():\n",
        "        outputs = model.generate(**inputs, max_new_tokens=512, temperature=0.0001)\n",
        "    return tokenizer.decode(outputs[0][inputs_length:], skip_special_tokens=True)"
      ],
      "metadata": {
        "id": "0cVyLnHfzHdo"
      },
      "execution_count": null,
      "outputs": []
    },
    {
      "cell_type": "code",
      "source": [
        "summary_2 = rewrite_short(model, test_prompt)"
      ],
      "metadata": {
        "id": "sapuowenzMfx"
      },
      "execution_count": null,
      "outputs": []
    },
    {
      "cell_type": "code",
      "source": [
        "print(summary_2)"
      ],
      "metadata": {
        "id": "_AYfdEhyzOwU"
      },
      "execution_count": null,
      "outputs": []
    },
    {
      "cell_type": "code",
      "source": [
        "def rewrite_256(model, text: str):\n",
        "    inputs = tokenizer(text, return_tensors=\"pt\").to(DEVICE)\n",
        "    inputs_length = len(inputs[\"input_ids\"][0])\n",
        "    with torch.inference_mode():\n",
        "        outputs = model.generate(**inputs, max_new_tokens=256, temperature=0.0005)\n",
        "    return tokenizer.decode(outputs[0][inputs_length:], skip_special_tokens=True)"
      ],
      "metadata": {
        "id": "4_7MlEWFzRpi"
      },
      "execution_count": null,
      "outputs": []
    },
    {
      "cell_type": "code",
      "source": [
        "summary_3 = rewrite_256(model, test_prompt)"
      ],
      "metadata": {
        "id": "GIDllLbxzUKf"
      },
      "execution_count": null,
      "outputs": []
    },
    {
      "cell_type": "code",
      "source": [
        "print(summary_3)"
      ],
      "metadata": {
        "id": "uGbAtzcvzWrL"
      },
      "execution_count": null,
      "outputs": []
    }
  ]
}